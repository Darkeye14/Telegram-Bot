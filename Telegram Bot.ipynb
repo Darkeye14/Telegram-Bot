{
 "cells": [
  {
   "cell_type": "code",
   "execution_count": 1,
   "metadata": {},
   "outputs": [
    {
     "name": "stdout",
     "output_type": "stream",
     "text": [
      "Collecting python-telegram-bot\n",
      "  Using cached python_telegram_bot-21.10-py3-none-any.whl.metadata (17 kB)\n",
      "Collecting httpx~=0.27 (from python-telegram-bot)\n",
      "  Using cached httpx-0.28.1-py3-none-any.whl.metadata (7.1 kB)\n",
      "Collecting anyio (from httpx~=0.27->python-telegram-bot)\n",
      "  Using cached anyio-4.8.0-py3-none-any.whl.metadata (4.6 kB)\n",
      "Collecting certifi (from httpx~=0.27->python-telegram-bot)\n",
      "  Using cached certifi-2025.1.31-py3-none-any.whl.metadata (2.5 kB)\n",
      "Collecting httpcore==1.* (from httpx~=0.27->python-telegram-bot)\n",
      "  Using cached httpcore-1.0.7-py3-none-any.whl.metadata (21 kB)\n",
      "Collecting idna (from httpx~=0.27->python-telegram-bot)\n",
      "  Using cached idna-3.10-py3-none-any.whl.metadata (10 kB)\n",
      "Collecting h11<0.15,>=0.13 (from httpcore==1.*->httpx~=0.27->python-telegram-bot)\n",
      "  Using cached h11-0.14.0-py3-none-any.whl.metadata (8.2 kB)\n",
      "Collecting sniffio>=1.1 (from anyio->httpx~=0.27->python-telegram-bot)\n",
      "  Using cached sniffio-1.3.1-py3-none-any.whl.metadata (3.9 kB)\n",
      "Using cached python_telegram_bot-21.10-py3-none-any.whl (669 kB)\n",
      "Using cached httpx-0.28.1-py3-none-any.whl (73 kB)\n",
      "Using cached httpcore-1.0.7-py3-none-any.whl (78 kB)\n",
      "Using cached anyio-4.8.0-py3-none-any.whl (96 kB)\n",
      "Using cached idna-3.10-py3-none-any.whl (70 kB)\n",
      "Using cached certifi-2025.1.31-py3-none-any.whl (166 kB)\n",
      "Using cached h11-0.14.0-py3-none-any.whl (58 kB)\n",
      "Using cached sniffio-1.3.1-py3-none-any.whl (10 kB)\n",
      "Installing collected packages: sniffio, idna, h11, certifi, httpcore, anyio, httpx, python-telegram-bot\n",
      "Successfully installed anyio-4.8.0 certifi-2025.1.31 h11-0.14.0 httpcore-1.0.7 httpx-0.28.1 idna-3.10 python-telegram-bot-21.10 sniffio-1.3.1\n",
      "Note: you may need to restart the kernel to use updated packages.\n"
     ]
    },
    {
     "name": "stderr",
     "output_type": "stream",
     "text": [
      "\n",
      "[notice] A new release of pip is available: 24.3.1 -> 25.0.1\n",
      "[notice] To update, run: python.exe -m pip install --upgrade pip\n"
     ]
    }
   ],
   "source": [
    "pip install python-telegram-bot"
   ]
  },
  {
   "cell_type": "code",
   "execution_count": 2,
   "metadata": {},
   "outputs": [
    {
     "name": "stdout",
     "output_type": "stream",
     "text": [
      "Requirement already satisfied: python-telegram-bot[job_queue] in c:\\users\\gyan\\downloads\\ai\\venv\\lib\\site-packages (21.10)\n",
      "Requirement already satisfied: httpx~=0.27 in c:\\users\\gyan\\downloads\\ai\\venv\\lib\\site-packages (from python-telegram-bot[job_queue]) (0.28.1)\n",
      "Collecting apscheduler<3.12.0,>=3.10.4 (from python-telegram-bot[job_queue])\n",
      "  Downloading APScheduler-3.11.0-py3-none-any.whl.metadata (6.4 kB)\n",
      "Collecting tzlocal>=3.0 (from apscheduler<3.12.0,>=3.10.4->python-telegram-bot[job_queue])\n",
      "  Downloading tzlocal-5.3-py3-none-any.whl.metadata (7.6 kB)\n",
      "Requirement already satisfied: anyio in c:\\users\\gyan\\downloads\\ai\\venv\\lib\\site-packages (from httpx~=0.27->python-telegram-bot[job_queue]) (4.8.0)\n",
      "Requirement already satisfied: certifi in c:\\users\\gyan\\downloads\\ai\\venv\\lib\\site-packages (from httpx~=0.27->python-telegram-bot[job_queue]) (2025.1.31)\n",
      "Requirement already satisfied: httpcore==1.* in c:\\users\\gyan\\downloads\\ai\\venv\\lib\\site-packages (from httpx~=0.27->python-telegram-bot[job_queue]) (1.0.7)\n",
      "Requirement already satisfied: idna in c:\\users\\gyan\\downloads\\ai\\venv\\lib\\site-packages (from httpx~=0.27->python-telegram-bot[job_queue]) (3.10)\n",
      "Requirement already satisfied: h11<0.15,>=0.13 in c:\\users\\gyan\\downloads\\ai\\venv\\lib\\site-packages (from httpcore==1.*->httpx~=0.27->python-telegram-bot[job_queue]) (0.14.0)\n",
      "Collecting tzdata (from tzlocal>=3.0->apscheduler<3.12.0,>=3.10.4->python-telegram-bot[job_queue])\n",
      "  Downloading tzdata-2025.1-py2.py3-none-any.whl.metadata (1.4 kB)\n",
      "Requirement already satisfied: sniffio>=1.1 in c:\\users\\gyan\\downloads\\ai\\venv\\lib\\site-packages (from anyio->httpx~=0.27->python-telegram-bot[job_queue]) (1.3.1)\n",
      "Downloading APScheduler-3.11.0-py3-none-any.whl (64 kB)\n",
      "Downloading tzlocal-5.3-py3-none-any.whl (17 kB)\n",
      "Downloading tzdata-2025.1-py2.py3-none-any.whl (346 kB)\n",
      "Installing collected packages: tzdata, tzlocal, apscheduler\n",
      "Successfully installed apscheduler-3.11.0 tzdata-2025.1 tzlocal-5.3\n",
      "Note: you may need to restart the kernel to use updated packages.\n"
     ]
    },
    {
     "name": "stderr",
     "output_type": "stream",
     "text": [
      "\n",
      "[notice] A new release of pip is available: 24.3.1 -> 25.0.1\n",
      "[notice] To update, run: python.exe -m pip install --upgrade pip\n"
     ]
    }
   ],
   "source": [
    "pip install python-telegram-bot[job_queue]"
   ]
  },
  {
   "cell_type": "code",
   "execution_count": 3,
   "metadata": {},
   "outputs": [
    {
     "name": "stdout",
     "output_type": "stream",
     "text": [
      "Collecting sqlalchemy\n",
      "  Downloading SQLAlchemy-2.0.38-cp313-cp313-win_amd64.whl.metadata (9.9 kB)\n",
      "Collecting greenlet!=0.4.17 (from sqlalchemy)\n",
      "  Downloading greenlet-3.1.1-cp313-cp313-win_amd64.whl.metadata (3.9 kB)\n",
      "Collecting typing-extensions>=4.6.0 (from sqlalchemy)\n",
      "  Downloading typing_extensions-4.12.2-py3-none-any.whl.metadata (3.0 kB)\n",
      "Downloading SQLAlchemy-2.0.38-cp313-cp313-win_amd64.whl (2.1 MB)\n",
      "   ---------------------------------------- 0.0/2.1 MB ? eta -:--:--\n",
      "   -------------------- ------------------- 1.0/2.1 MB 6.4 MB/s eta 0:00:01\n",
      "   ----------------------------------- ---- 1.8/2.1 MB 4.8 MB/s eta 0:00:01\n",
      "   ---------------------------------------- 2.1/2.1 MB 4.6 MB/s eta 0:00:00\n",
      "Downloading greenlet-3.1.1-cp313-cp313-win_amd64.whl (299 kB)\n",
      "Downloading typing_extensions-4.12.2-py3-none-any.whl (37 kB)\n",
      "Installing collected packages: typing-extensions, greenlet, sqlalchemy\n",
      "Successfully installed greenlet-3.1.1 sqlalchemy-2.0.38 typing-extensions-4.12.2\n",
      "Note: you may need to restart the kernel to use updated packages.\n"
     ]
    },
    {
     "name": "stderr",
     "output_type": "stream",
     "text": [
      "\n",
      "[notice] A new release of pip is available: 24.3.1 -> 25.0.1\n",
      "[notice] To update, run: python.exe -m pip install --upgrade pip\n"
     ]
    }
   ],
   "source": [
    "pip install sqlalchemy"
   ]
  },
  {
   "cell_type": "code",
   "execution_count": 4,
   "metadata": {},
   "outputs": [
    {
     "name": "stdout",
     "output_type": "stream",
     "text": [
      "Collecting requests\n",
      "  Using cached requests-2.32.3-py3-none-any.whl.metadata (4.6 kB)\n",
      "Collecting charset-normalizer<4,>=2 (from requests)\n",
      "  Using cached charset_normalizer-3.4.1-cp313-cp313-win_amd64.whl.metadata (36 kB)\n",
      "Requirement already satisfied: idna<4,>=2.5 in c:\\users\\gyan\\downloads\\ai\\venv\\lib\\site-packages (from requests) (3.10)\n",
      "Collecting urllib3<3,>=1.21.1 (from requests)\n",
      "  Using cached urllib3-2.3.0-py3-none-any.whl.metadata (6.5 kB)\n",
      "Requirement already satisfied: certifi>=2017.4.17 in c:\\users\\gyan\\downloads\\ai\\venv\\lib\\site-packages (from requests) (2025.1.31)\n",
      "Using cached requests-2.32.3-py3-none-any.whl (64 kB)\n",
      "Using cached charset_normalizer-3.4.1-cp313-cp313-win_amd64.whl (102 kB)\n",
      "Using cached urllib3-2.3.0-py3-none-any.whl (128 kB)\n",
      "Installing collected packages: urllib3, charset-normalizer, requests\n",
      "Successfully installed charset-normalizer-3.4.1 requests-2.32.3 urllib3-2.3.0\n",
      "Note: you may need to restart the kernel to use updated packages.\n"
     ]
    },
    {
     "name": "stderr",
     "output_type": "stream",
     "text": [
      "\n",
      "[notice] A new release of pip is available: 24.3.1 -> 25.0.1\n",
      "[notice] To update, run: python.exe -m pip install --upgrade pip\n"
     ]
    }
   ],
   "source": [
    "pip install requests"
   ]
  }
 ],
 "metadata": {
  "kernelspec": {
   "display_name": "venv",
   "language": "python",
   "name": "python3"
  },
  "language_info": {
   "codemirror_mode": {
    "name": "ipython",
    "version": 3
   },
   "file_extension": ".py",
   "mimetype": "text/x-python",
   "name": "python",
   "nbconvert_exporter": "python",
   "pygments_lexer": "ipython3",
   "version": "3.13.2"
  }
 },
 "nbformat": 4,
 "nbformat_minor": 2
}
